{
 "cells": [
  {
   "cell_type": "markdown",
   "metadata": {
    "deletable": false
   },
   "source": [
    "## 約維安計畫：中級約維安的第二個里程碑專案\n",
    "\n",
    "> 第二十二週"
   ]
  },
  {
   "cell_type": "code",
   "execution_count": null,
   "metadata": {
    "deletable": false,
    "editable": false
   },
   "outputs": [],
   "source": [
    "import unittest\n",
    "import json"
   ]
  },
  {
   "cell_type": "markdown",
   "metadata": {
    "deletable": false,
    "editable": false
   },
   "source": [
    "## 練習題指引\n",
    "\n",
    "- 第一個程式碼儲存格會將可能用得到的模組（套件）以及單元測試 `unittest` 載入。\n",
    "- 如果練習題需要載入檔案，檔案與練習題存放在同個資料夾中，意即我們可以指定工作目錄來載入。\n",
    "- 練習題已經定義好函數或者類別的名稱以及參數名稱，我們只需要寫作主體。\n",
    "- 函數或者類別的 `\"\"\"docstring\"\"\"` 部分會描述測試如何進行。\n",
    "- 觀察 `\"\"\"docstring\"\"\"` 的部分能夠暸解輸入以及預期輸出之間的關係，能幫助我們更暸解題目。\n",
    "- 請在 `### BEGIN SOLUTION` 與 `### END SOLUTION` 這兩個單行註解之間寫作函數或者類別的主體。\n",
    "- 執行測試的方式為點選上方選單的 Kernel -> Restart Kernel And Run All Cells -> Restart。\n",
    "- 可以每寫一題就執行測試，也可以全部寫完再執行測試。\n",
    "- 練習題閒置超過 10 分鐘會自動斷線，這時只要重新點選練習題連結即可重新啟動。"
   ]
  },
  {
   "cell_type": "markdown",
   "metadata": {},
   "source": [
    "## 01. 自行定義函數 `flip_dict_key_value_pairs()` 可以將輸入 `dict` 的鍵（Keys）與值（Values）翻轉。\n",
    "\n",
    "- 預期輸入：`dict`\n",
    "- 預期輸出：`dict`"
   ]
  },
  {
   "cell_type": "code",
   "execution_count": null,
   "metadata": {},
   "outputs": [],
   "source": [
    "def flip_dict_key_value_pairs(x: dict) -> dict:\n",
    "    \"\"\"\n",
    "    >>> flip_dict_key_value_pairs({'TWN': 'Taiwan'})\n",
    "    {'Taiwan': 'TWN'}\n",
    "    >>> flip_dict_key_value_pairs({'TWN': 'Taiwan', 'JPN': 'Japan', 'LTU': 'Lithuania', 'SVN': 'Slovenia'})\n",
    "    {'Taiwan': 'TWN', 'Japan': 'JPN', 'Lithuania': 'LTU', 'Slovenia': 'SVN'}\n",
    "    \"\"\"\n",
    "    ### BEGIN SOLUTION\n",
    "    \n",
    "    ### END SOLUTION"
   ]
  },
  {
   "cell_type": "markdown",
   "metadata": {},
   "source": [
    "## 02. 自行定義類別 `RangePrime` 可以建立具有 `range_list` 屬性與 `filter_primes()` 方法的物件。\n",
    "\n",
    "- 預期輸入：`int`\n",
    "- 預期輸出：`list`"
   ]
  },
  {
   "cell_type": "code",
   "execution_count": null,
   "metadata": {},
   "outputs": [],
   "source": [
    "class RangePrime:\n",
    "    \"\"\"\n",
    "    >>> range_prime = RangePrime(1, 5)\n",
    "    >>> range_prime.range_list\n",
    "    [1, 2, 3, 4, 5]\n",
    "    >>> range_prime.filter_primes()\n",
    "    [2, 3, 5]\n",
    "    >>> range_prime = RangePrime(6, 15)\n",
    "    >>> range_prime.range_list\n",
    "    [6, 7, 8, 9, 10, 11, 12, 13, 14, 15]\n",
    "    >>> range_prime.filter_primes()\n",
    "    [7, 11, 13]\n",
    "    \"\"\"\n",
    "    ### BEGIN SOLUTION\n",
    "    \n",
    "    ### END SOLUTION"
   ]
  },
  {
   "cell_type": "markdown",
   "metadata": {},
   "source": [
    "## 03. 自行定義類別 `MinMaxFinder` 可以建立具有四個方法 `get_min()`、`get_max()`、 `get_idxmin()`、`get_idxmax()` 的物件，能夠找出輸入 `list` 中的最大值與最小值以及其所在位置。\n",
    "\n",
    "- 預期輸入：`list`\n",
    "- 預期輸出：`int` | `list`"
   ]
  },
  {
   "cell_type": "code",
   "execution_count": null,
   "metadata": {},
   "outputs": [],
   "source": [
    "class MinMaxFinder:\n",
    "    \"\"\"\n",
    "    >>> min_max_finder = MinMaxFinder([2, 3, 5, 7, 11])\n",
    "    >>> min_max_finder.get_min()\n",
    "    2\n",
    "    >>> min_max_finder.get_max()\n",
    "    11\n",
    "    >>> min_max_finder.get_idxmin()\n",
    "    [0]\n",
    "    >>> min_max_finder.get_idxmax()\n",
    "    [4]\n",
    "    >>> min_max_finder = MinMaxFinder([2, 2, 3, 5, 7, 11, 11])\n",
    "    >>> min_max_finder.get_min()\n",
    "    2\n",
    "    >>> min_max_finder.get_max()\n",
    "    11\n",
    "    >>> min_max_finder.get_idxmin()\n",
    "    [0, 1]\n",
    "    >>> min_max_finder.get_idxmax()\n",
    "    [5, 6]\n",
    "    \"\"\"\n",
    "    ### BEGIN SOLUTION\n",
    "    \n",
    "    ### END SOLUTION"
   ]
  },
  {
   "cell_type": "markdown",
   "metadata": {},
   "source": [
    "## 04. 自行定義類別 `PigLatin` 可以建立具有 `original_word` 屬性與 `alter()` 方法的物件，能夠針對輸入英文進行「豬拉丁文」操作。\n",
    "\n",
    "- 將母音前的字母移到字尾，加上 ay，例如 \"pig\" -> \"igpay\"、\"smile\" -> \"ilesmay\"。\n",
    "- 如果字首是母音，直接在字尾加上 yay，例如 \"eat\" -> \"eatyay\"。\n",
    "\n",
    "來源：<https://en.wikipedia.org/wiki/Pig_Latin>\n",
    "\n",
    "- 預期輸入：`str`\n",
    "- 預期輸出：`str`"
   ]
  },
  {
   "cell_type": "code",
   "execution_count": null,
   "metadata": {},
   "outputs": [],
   "source": [
    "class PigLatin:\n",
    "    \"\"\"\n",
    "    >>> pig_latin = PigLatin(\"pig\")\n",
    "    >>> pig_latin.original_word\n",
    "    'pig'\n",
    "    >>> pig_latin.alter()\n",
    "    'igpay'\n",
    "    >>> pig_latin = PigLatin(\"smile\")\n",
    "    >>> pig_latin.original_word\n",
    "    'smile'\n",
    "    >>> pig_latin.alter()\n",
    "    'ilesmay'\n",
    "    >>> pig_latin = PigLatin(\"eat\")\n",
    "    >>> pig_latin.original_word\n",
    "    'eat'\n",
    "    >>> pig_latin.alter()\n",
    "    'eatyay'\n",
    "    \"\"\"\n",
    "    ### BEGIN SOLUTION\n",
    "    \n",
    "    ### END SOLUTION"
   ]
  },
  {
   "cell_type": "markdown",
   "metadata": {},
   "source": [
    "## 05. 自行定義類別 `RotThirteen` 可以建立具有兩個方法  `rotate_char()` 與 `rotate_sentence()` 的物件，能夠針對輸入英文進行 ROT13 加密。\n",
    "\n",
    "來源：<https://en.wikipedia.org/wiki/ROT13>\n",
    "\n",
    "- 預期輸入：`str`\n",
    "- 預期輸出：`str`"
   ]
  },
  {
   "cell_type": "code",
   "execution_count": null,
   "metadata": {},
   "outputs": [],
   "source": [
    "class RotThirteen:\n",
    "    \"\"\"\n",
    "    >>> rot_13 = RotThirteen()\n",
    "    >>> rot_13.rotate_char(\"A\")\n",
    "    'N'\n",
    "    >>> rot_13.rotate_char(\"B\")\n",
    "    'O'\n",
    "    >>> rot_13.rotate_char(\"Y\")\n",
    "    'L'\n",
    "    >>> rot_13.rotate_char(\"Z\")\n",
    "    'M'\n",
    "    >>> rot_13.rotate_char(\"a\")\n",
    "    'n'\n",
    "    >>> rot_13.rotate_char(\"b\")\n",
    "    'o'\n",
    "    >>> rot_13.rotate_char(\"y\")\n",
    "    'l'\n",
    "    >>> rot_13.rotate_char(\"z\")\n",
    "    'm'\n",
    "    >>> rot_13.rotate_sentence(\"Ornhgvshy vf orggre guna htyl.\")\n",
    "    'Beautiful is better than ugly.'\n",
    "    >>> rot_13.rotate_sentence(\"Abj vf orggre guna arire.\")\n",
    "    'Now is better than never.'\n",
    "    \"\"\"\n",
    "    ### BEGIN SOLUTION\n",
    "    \n",
    "    ### END SOLUTION"
   ]
  },
  {
   "cell_type": "markdown",
   "metadata": {},
   "source": [
    "## 06. 自行定義函數 `lookup_zip_codes()` 可以根據工作目錄的 `zip_codes.json` 將輸入縣市名稱與行政區名稱所對應的三碼郵遞區號回傳。\n",
    "\n",
    "- 預期輸入：`str`\n",
    "- 預期輸出：`str`"
   ]
  },
  {
   "cell_type": "code",
   "execution_count": null,
   "metadata": {},
   "outputs": [],
   "source": [
    "def lookup_zip_codes(county: str, town: str) -> str:\n",
    "    \"\"\"\n",
    "    >>> lookup_zip_codes(\"臺北市\", \"中正區\")\n",
    "    '100'\n",
    "    >>> lookup_zip_codes(\"基隆市\", \"中正區\")\n",
    "    '202'\n",
    "    >>> lookup_zip_codes(\"臺北市\", \"中山區\")\n",
    "    '104'\n",
    "    >>> lookup_zip_codes(\"基隆市\", \"中山區\")\n",
    "    '203'\n",
    "    >>> lookup_zip_codes(\"臺北市\", \"大安區\")\n",
    "    '106'\n",
    "    >>> lookup_zip_codes(\"臺中市\", \"大安區\")\n",
    "    '439'\n",
    "    \"\"\"\n",
    "    ### BEGIN SOLUTION\n",
    "    \n",
    "    ### END SOLUTION"
   ]
  },
  {
   "cell_type": "markdown",
   "metadata": {},
   "source": [
    "## 07. 自行定義函數 `lookup_country_iso_codes()` 可以根據工作目錄的 `countries.json` 將輸入國家名稱所對應的二碼以及三碼 ISO 國家代碼回傳。\n",
    "\n",
    "- 預期輸入：`str`\n",
    "- 預期輸出：`tuple`"
   ]
  },
  {
   "cell_type": "code",
   "execution_count": null,
   "metadata": {},
   "outputs": [],
   "source": [
    "def lookup_country_iso_codes(country: str) -> tuple:\n",
    "    \"\"\"\n",
    "    >>> lookup_country_iso_codes(\"Taiwan\")\n",
    "    ('TW', 'TWN')\n",
    "    >>> lookup_country_iso_codes(\"Japan\")\n",
    "    ('JP', 'JPN')\n",
    "    >>> lookup_country_iso_codes(\"Lithuania\")\n",
    "    ('LT', 'LTU')\n",
    "    >>> lookup_country_iso_codes(\"Slovenia\")\n",
    "    ('SI', 'SVN')\n",
    "    \"\"\"\n",
    "    ### BEGIN SOLUTION\n",
    "    \n",
    "    ### END SOLUTION"
   ]
  },
  {
   "cell_type": "markdown",
   "metadata": {},
   "source": [
    "## 08. 自行定義類別 `CoachRoster` 可以建立具有兩個方法 `get_head_coach()` 與 `get_assistant_coaches()` 的物件，能夠根據工作目錄的 `coaches.json` 將 NBA 正式聯盟（Standard League）隊伍代碼所對應的教練陣容回傳。\n",
    "\n",
    "- 預期輸入：`str`\n",
    "- 預期輸出：`str` | `list`"
   ]
  },
  {
   "cell_type": "code",
   "execution_count": null,
   "metadata": {},
   "outputs": [],
   "source": [
    "class CoachRoster:\n",
    "    \"\"\"\n",
    "    >>> cr = CoachRoster(\"coaches.json\")\n",
    "    >>> cr.get_head_coach(\"ATL\")\n",
    "    'Nate McMillan'\n",
    "    >>> cr.get_assistant_coaches(\"ATL\")\n",
    "    ['Chris Jent',\n",
    "     'Joe Prunty',\n",
    "     'Jamelle McMillan',\n",
    "     'Matt Hill',\n",
    "     'Nick Van Exel',\n",
    "     'Scottie Parker']\n",
    "    >>> cr.get_head_coach(\"BKN\")\n",
    "    'Steve Nash'\n",
    "    >>> cr.get_assistant_coaches(\"BKN\")\n",
    "    ['Jacque Vaughn',\n",
    "     'David Vanterpool',\n",
    "     'Brian Keefe',\n",
    "     'Adam Harrington',\n",
    "     'Jordan Ott',\n",
    "     'Tiago Splitter',\n",
    "     'Royal Ivey',\n",
    "     'Ryan Forehan-Kelly',\n",
    "     'Sebastien Poirier']\n",
    "    \"\"\"\n",
    "    ### BEGIN SOLUTION\n",
    "    \n",
    "    ### END SOLUTION"
   ]
  },
  {
   "cell_type": "markdown",
   "metadata": {},
   "source": [
    "## 09. 自行定義函數 `find_tallest_shortest_players()` 可以根據工作目錄的 `players.json` 將 NBA 正式聯盟（Standard League）最高與最矮的球員回傳。\n",
    "\n",
    "註：可以逕行略過沒有身高資訊的球員。\n",
    "\n",
    "- 預期輸入：`str`\n",
    "- 預期輸出：`dict`"
   ]
  },
  {
   "cell_type": "code",
   "execution_count": null,
   "metadata": {},
   "outputs": [],
   "source": [
    "def find_tallest_shortest_players(x: str) -> dict:\n",
    "    \"\"\"\n",
    "    >>> find_tallest_shortest_players('tallest')\n",
    "    {'heightMeters': 2.29, 'players': ['Tacko Fall']}\n",
    "    >>> find_tallest_shortest_players('shortest')\n",
    "    {'heightMeters': 1.78, 'players': ['Facundo Campazzo', 'Markus Howard']}\n",
    "    \"\"\"\n",
    "    ### BEGIN SOLUTION\n",
    "    \n",
    "    ### END SOLUTION"
   ]
  },
  {
   "cell_type": "markdown",
   "metadata": {},
   "source": [
    "## 10. 自行定義函數 `get_current_team_roster()` 可以根據工作目錄的 `players.json` 與 `teams.json` 將 2021-2022 賽季 NBA 正式聯盟（Standard League）隊伍代碼所對應的球員陣容回傳。\n",
    "\n",
    "註：兩個檔案可以透過 `teamId` 關聯。\n",
    "\n",
    "- 預期輸入：`str`\n",
    "- 預期輸出：`list`"
   ]
  },
  {
   "cell_type": "code",
   "execution_count": null,
   "metadata": {},
   "outputs": [],
   "source": [
    "def get_current_team_roster(team_tricode: str) -> list:\n",
    "    \"\"\"\n",
    "    >>> get_current_team_roster(\"BKN\")\n",
    "    ['LaMarcus Aldridge',\n",
    "     \"DeAndre' Bembry\",\n",
    "     'Bruce Brown',\n",
    "     'Jevon Carter',\n",
    "     'Nic Claxton',\n",
    "     'David Duke Jr.',\n",
    "     'Kevin Durant',\n",
    "     'Kessler Edwards',\n",
    "     'Blake Griffin',\n",
    "     'James Harden',\n",
    "     'Joe Harris',\n",
    "     'Kyrie Irving',\n",
    "     'James Johnson',\n",
    "     'Patty Mills',\n",
    "     'Paul Millsap',\n",
    "     \"Day'Ron Sharpe\",\n",
    "     'Cam Thomas']\n",
    "    >>> get_current_team_roster(\"MIA\")\n",
    "    ['Bam Adebayo',\n",
    "     'Jimmy Butler',\n",
    "     'Dewayne Dedmon',\n",
    "     'Marcus Garrett',\n",
    "     'Udonis Haslem',\n",
    "     'Tyler Herro',\n",
    "     'Kyle Lowry',\n",
    "     'Caleb Martin',\n",
    "     'Markieff Morris',\n",
    "     'KZ Okpala',\n",
    "     'Victor Oladipo',\n",
    "     'Duncan Robinson',\n",
    "     'Max Strus',\n",
    "     'P.J. Tucker',\n",
    "     'Gabe Vincent',\n",
    "     'Omer Yurtseven']\n",
    "    \"\"\"\n",
    "    ### BEGIN SOLUTION\n",
    "    \n",
    "    ### END SOLUTION"
   ]
  },
  {
   "cell_type": "markdown",
   "metadata": {},
   "source": [
    "## 執行測試！\n",
    "\n",
    "Kernel -> Restart Kernel And Run All Cells -> Restart."
   ]
  },
  {
   "cell_type": "code",
   "execution_count": null,
   "metadata": {},
   "outputs": [],
   "source": [
    "class TestWeekTwentyTwo(unittest.TestCase):\n",
    "    def test_01_flip_dict_key_value_pairs(self):\n",
    "        self.assertEqual(ex.flip_dict_key_value_pairs({'TWN': 'Taiwan'}),\n",
    "         {'Taiwan': 'TWN'})\n",
    "        self.assertEqual(ex.flip_dict_key_value_pairs({'TWN': 'Taiwan', 'JPN': 'Japan', 'LTU': 'Lithuania', 'SVN': 'Slovenia'}),\n",
    "         {'Taiwan': 'TWN', 'Japan': 'JPN', 'Lithuania': 'LTU', 'Slovenia': 'SVN'})\n",
    "        self.assertEqual(ex.flip_dict_key_value_pairs({'JPN': 'Japan'}), {'Japan': 'JPN'})\n",
    "    def test_02_RangePrime(self):\n",
    "        range_prime = ex.RangePrime(1, 5)   \n",
    "        self.assertEqual(range_prime.range_list, [1, 2, 3, 4, 5])\n",
    "        self.assertEqual(range_prime.filter_primes(), [2, 3, 5])\n",
    "        range_prime = ex.RangePrime(6, 15)\n",
    "        self.assertEqual(range_prime.range_list, [6, 7, 8, 9, 10, 11, 12, 13, 14, 15])\n",
    "        self.assertEqual(range_prime.filter_primes(), [7, 11, 13])\n",
    "        range_prime = ex.RangePrime(16, 20)\n",
    "        self.assertEqual(range_prime.range_list, [16, 17, 18, 19, 20])\n",
    "        self.assertEqual(range_prime.filter_primes(), [17, 19])\n",
    "    def test_03_MinMaxFinder(self):\n",
    "        min_max_finder = ex.MinMaxFinder([2, 3, 5, 7, 11])\n",
    "        self.assertEqual(min_max_finder.get_min(), 2)\n",
    "        self.assertEqual(min_max_finder.get_max(), 11)\n",
    "        self.assertEqual(min_max_finder.get_idxmin(), [0])\n",
    "        self.assertEqual(min_max_finder.get_idxmax(), [4])\n",
    "        min_max_finder = ex.MinMaxFinder([2, 2, 3, 5, 7, 11, 11])\n",
    "        self.assertEqual(min_max_finder.get_min(), 2)\n",
    "        self.assertEqual(min_max_finder.get_max(), 11)\n",
    "        self.assertEqual(min_max_finder.get_idxmin(), [0, 1])\n",
    "        self.assertEqual(min_max_finder.get_idxmax(), [5, 6])\n",
    "        min_max_finder = ex.MinMaxFinder([13, 13, 5, 5, 5])\n",
    "        self.assertEqual(min_max_finder.get_min(), 5)\n",
    "        self.assertEqual(min_max_finder.get_max(), 13)\n",
    "        self.assertEqual(min_max_finder.get_idxmin(), [2, 3, 4])\n",
    "        self.assertEqual(min_max_finder.get_idxmax(), [0, 1])\n",
    "    def test_04_PigLatin(self):\n",
    "        pig_latin = ex.PigLatin(\"pig\")\n",
    "        self.assertEqual(pig_latin.original_word, 'pig')\n",
    "        self.assertEqual(pig_latin.alter(), 'igpay')\n",
    "        pig_latin = ex.PigLatin(\"smile\")\n",
    "        self.assertEqual(pig_latin.original_word, 'smile')\n",
    "        self.assertEqual(pig_latin.alter(), 'ilesmay')\n",
    "        pig_latin = ex.PigLatin(\"eat\")\n",
    "        self.assertEqual(pig_latin.original_word, 'eat')\n",
    "        self.assertEqual(pig_latin.alter(), 'eatyay')\n",
    "        pig_latin = ex.PigLatin(\"banana\")\n",
    "        self.assertEqual(pig_latin.original_word, 'banana')\n",
    "        self.assertEqual(pig_latin.alter(), 'ananabay')\n",
    "        pig_latin = ex.PigLatin(\"string\")\n",
    "        self.assertEqual(pig_latin.original_word, 'string')\n",
    "        self.assertEqual(pig_latin.alter(), 'ingstray')\n",
    "        pig_latin = ex.PigLatin(\"omelet\")\n",
    "        self.assertEqual(pig_latin.original_word, 'omelet')\n",
    "        self.assertEqual(pig_latin.alter(), 'omeletyay')\n",
    "    def test_05_RotThirteen(self):\n",
    "        rot_13 = ex.RotThirteen()\n",
    "        self.assertEqual(rot_13.rotate_char(\"A\"), 'N')\n",
    "        self.assertEqual(rot_13.rotate_char(\"a\"), 'n')\n",
    "        self.assertEqual(rot_13.rotate_char(\"B\"), 'O')\n",
    "        self.assertEqual(rot_13.rotate_char(\"b\"), 'o')\n",
    "        self.assertEqual(rot_13.rotate_sentence(\"Ornhgvshy vf orggre guna htyl.\"), 'Beautiful is better than ugly.')\n",
    "        self.assertEqual(rot_13.rotate_sentence(\"Abj vf orggre guna arire.\"), 'Now is better than never.')\n",
    "    def test_06_lookup_zip_codes(self):\n",
    "        self.assertEqual(ex.lookup_zip_codes(\"臺北市\", \"中正區\"), '100')\n",
    "        self.assertEqual(ex.lookup_zip_codes(\"基隆市\", \"中正區\"), '202')\n",
    "        self.assertEqual(ex.lookup_zip_codes(\"臺北市\", \"中山區\"), '104')\n",
    "        self.assertEqual(ex.lookup_zip_codes(\"基隆市\", \"中山區\"), '203')\n",
    "        self.assertEqual(ex.lookup_zip_codes(\"臺北市\", \"大安區\"), '106')\n",
    "        self.assertEqual(ex.lookup_zip_codes(\"臺中市\", \"大安區\"), '439')\n",
    "        self.assertEqual(ex.lookup_zip_codes(\"臺北市\", \"內湖區\"), '114')\n",
    "    def test_07_lookup_country_iso_codes(self):\n",
    "        self.assertEqual(ex.lookup_country_iso_codes(\"Taiwan\"), ('TW', 'TWN'))\n",
    "        self.assertEqual(ex.lookup_country_iso_codes(\"Japan\"), ('JP', 'JPN'))\n",
    "        self.assertEqual(ex.lookup_country_iso_codes(\"Lithuania\"),  ('LT', 'LTU'))\n",
    "        self.assertEqual(ex.lookup_country_iso_codes(\"Slovenia\"), ('SI', 'SVN'))\n",
    "        self.assertEqual(ex.lookup_country_iso_codes(\"Czechia\"),  ('CZ', 'CZE'))\n",
    "        self.assertEqual(ex.lookup_country_iso_codes(\"United States of America (the)\"), ('US', 'USA'))\n",
    "    def test_08_CoachRoster(self):\n",
    "        cr = ex.CoachRoster(\"coaches.json\")\n",
    "        self.assertEqual(cr.get_head_coach(\"ATL\"), 'Nate McMillan')\n",
    "        self.assertIn('Nick Van Exel', cr.get_assistant_coaches(\"ATL\"))\n",
    "        self.assertIn('Jamelle McMillan', cr.get_assistant_coaches(\"ATL\"))\n",
    "        self.assertEqual(cr.get_head_coach(\"BKN\"), 'Steve Nash')\n",
    "        self.assertIn('Tiago Splitter', cr.get_assistant_coaches(\"BKN\"))\n",
    "        self.assertIn('Jacque Vaughn', cr.get_assistant_coaches(\"BKN\"))\n",
    "        self.assertEqual(cr.get_head_coach(\"POR\"), 'Chauncey Billups')\n",
    "        self.assertEqual(cr.get_head_coach(\"SAS\"), 'Gregg Popovich')\n",
    "    def test_09_find_tallest_shortest_players(self):\n",
    "        self.assertAlmostEqual(ex.find_tallest_shortest_players('tallest')['heightMeters'], 2.29)\n",
    "        self.assertEqual(ex.find_tallest_shortest_players('tallest')['players'], ['Tacko Fall'])\n",
    "        self.assertAlmostEqual(ex.find_tallest_shortest_players('shortest')['heightMeters'], 1.78)\n",
    "        self.assertEqual(ex.find_tallest_shortest_players('shortest')['players'], ['Facundo Campazzo', 'Markus Howard'])\n",
    "    def test_10_get_current_team_roster(self):\n",
    "        self.assertIsInstance(ex.get_current_team_roster(\"BKN\"), list)\n",
    "        self.assertIn(\"Kevin Durant\", ex.get_current_team_roster(\"BKN\"))\n",
    "        self.assertIn(\"James Harden\", ex.get_current_team_roster(\"BKN\"))\n",
    "        self.assertIsInstance(ex.get_current_team_roster(\"MIA\"), list)\n",
    "        self.assertIn(\"Jimmy Butler\", ex.get_current_team_roster(\"MIA\"))\n",
    "        self.assertIn(\"Bam Adebayo\", ex.get_current_team_roster(\"MIA\"))\n",
    "        self.assertIn(\"Nikola Jokic\", ex.get_current_team_roster(\"DEN\"))\n",
    "        self.assertIn(\"Luka Doncic\", ex.get_current_team_roster(\"DAL\"))\n",
    "\n",
    "suite = unittest.TestLoader().loadTestsFromTestCase(TestWeekTwentyTwo)\n",
    "runner = unittest.TextTestRunner(verbosity=2)\n",
    "test_results = runner.run(suite)\n",
    "number_of_failures = len(test_results.failures)\n",
    "number_of_errors = len(test_results.errors)\n",
    "number_of_test_runs = test_results.testsRun\n",
    "number_of_successes = number_of_test_runs - (number_of_failures + number_of_errors)"
   ]
  },
  {
   "cell_type": "code",
   "execution_count": null,
   "metadata": {},
   "outputs": [],
   "source": [
    "print(\"您在 {} 道 Python 練習答對了 {} 題。\".format(number_of_test_runs, number_of_successes))"
   ]
  }
 ],
 "metadata": {
  "kernelspec": {
   "display_name": "Python 3 (ipykernel)",
   "language": "python",
   "name": "python3"
  },
  "language_info": {
   "codemirror_mode": {
    "name": "ipython",
    "version": 3
   },
   "file_extension": ".py",
   "mimetype": "text/x-python",
   "name": "python",
   "nbconvert_exporter": "python",
   "pygments_lexer": "ipython3",
   "version": "3.9.5"
  }
 },
 "nbformat": 4,
 "nbformat_minor": 4
}
